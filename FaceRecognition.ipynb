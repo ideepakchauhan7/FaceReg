{
 "cells": [
  {
   "cell_type": "code",
   "execution_count": 1,
   "id": "6d275d53-63a0-4a0f-9580-62f433d9dec1",
   "metadata": {},
   "outputs": [],
   "source": [
    "import cv2\n",
    "import os\n",
    "import random\n",
    "import numpy as np\n",
    "from matplotlib import pyplot as plt"
   ]
  },
  {
   "cell_type": "code",
   "execution_count": 2,
   "id": "81d227b7-563c-407f-b615-6b4ef68f1bcc",
   "metadata": {},
   "outputs": [],
   "source": [
    "from tensorflow.keras.models import Model\n",
    "from tensorflow.keras.layers import Layer,Conv2D,Dense , MaxPooling2D ,Input , Flatten\n",
    "import tensorflow as tf"
   ]
  },
  {
   "cell_type": "code",
   "execution_count": 3,
   "id": "dff28509-8f99-42bb-bc82-1497fcadd8de",
   "metadata": {},
   "outputs": [
    {
     "data": {
      "text/plain": [
       "1"
      ]
     },
     "execution_count": 3,
     "metadata": {},
     "output_type": "execute_result"
    }
   ],
   "source": [
    "gpus = tf.config.experimental.list_physical_devices('GPU')\n",
    "for gpu in gpus: \n",
    "    tf.config.experimental.set_memory_growth(gpu, True)\n",
    "len(gpus)"
   ]
  },
  {
   "cell_type": "code",
   "execution_count": 4,
   "id": "c6e76b32-af9c-4154-a23b-b66389189661",
   "metadata": {},
   "outputs": [],
   "source": [
    "POS_PATH = os.path.join('data','positive')\n",
    "NEG_PATH = os.path.join('data','negative')\n",
    "ANC_PATH = os.path.join('data','anchor')"
   ]
  },
  {
   "cell_type": "code",
   "execution_count": 5,
   "id": "049afdd5-7d2f-46e4-928d-b32da4573017",
   "metadata": {},
   "outputs": [
    {
     "data": {
      "text/plain": [
       "'data\\\\positive'"
      ]
     },
     "execution_count": 5,
     "metadata": {},
     "output_type": "execute_result"
    }
   ],
   "source": [
    "POS_PATH"
   ]
  },
  {
   "cell_type": "code",
   "execution_count": 6,
   "id": "d8b49555-4a34-4a4e-9158-295215b506ee",
   "metadata": {},
   "outputs": [],
   "source": [
    "# os.makedirs(POS_PATH)\n",
    "# os.makedirs(NEG_PATH)\n",
    "# os.makedirs(ANC_PATH)"
   ]
  },
  {
   "cell_type": "code",
   "execution_count": 7,
   "id": "c44b53c5-ecb7-4aa9-8277-351bcccb49e5",
   "metadata": {},
   "outputs": [],
   "source": [
    " !tar -xf lfw.tgz"
   ]
  },
  {
   "cell_type": "code",
   "execution_count": 8,
   "id": "41c2ea0f-8175-415a-a908-e788d35a195a",
   "metadata": {},
   "outputs": [],
   "source": [
    "import os\n",
    "\n",
    "# Loop over directories in 'lfw'\n",
    "for directory in os.listdir('lfw'):\n",
    "    # Check if it's a directory before listing files\n",
    "    directory_path = os.path.join('lfw', directory)\n",
    "    if os.path.isdir(directory_path):\n",
    "        for file in os.listdir(directory_path):\n",
    "            EX_PATH = os.path.join('lfw', directory, file)\n",
    "            NEW_PATH = os.path.join(NEG_PATH, file)\n",
    "            # Add your logic to move or process files here\n",
    "            os.replace(EX_PATH,NEW_PATH)\n"
   ]
  },
  {
   "cell_type": "code",
   "execution_count": 9,
   "id": "0056f2f1-8f26-41af-9b52-fa57c99bbd24",
   "metadata": {},
   "outputs": [
    {
     "data": {
      "text/plain": [
       "['Aaron_Eckhart',\n",
       " 'Aaron_Guiel',\n",
       " 'Aaron_Patterson',\n",
       " 'Aaron_Peirsol',\n",
       " 'Aaron_Pena',\n",
       " 'Aaron_Sorkin',\n",
       " 'Aaron_Tippin',\n",
       " 'Abbas_Kiarostami',\n",
       " 'Abba_Eban',\n",
       " 'Abdel_Aziz_Al-Hakim',\n",
       " 'Abdel_Madi_Shabneh',\n",
       " 'Abdel_Nasser_Assidi',\n",
       " 'Abdoulaye_Wade',\n",
       " 'Abdulaziz_Kamilov',\n",
       " 'Abdullah',\n",
       " 'Abdullah_Ahmad_Badawi',\n",
       " 'Abdullah_al-Attiyah',\n",
       " 'Abdullah_Gul',\n",
       " 'Abdullah_Nasseef',\n",
       " 'Abdullatif_Sener',\n",
       " 'Abdul_Majeed_Shobokshi',\n",
       " 'Abdul_Rahman',\n",
       " 'Abel_Aguilar',\n",
       " 'Abel_Pacheco',\n",
       " 'Abid_Hamid_Mahmud_Al-Tikriti',\n",
       " 'Abner_Martinez',\n",
       " 'Abraham_Foxman',\n",
       " 'Aby_Har-Even',\n",
       " 'Adam_Ant',\n",
       " 'Adam_Freier',\n",
       " 'Adam_Herbert',\n",
       " 'Adam_Kennedy',\n",
       " 'Adam_Mair',\n",
       " 'Adam_Rich',\n",
       " 'Adam_Sandler',\n",
       " 'Adam_Scott',\n",
       " 'Adelina_Avila',\n",
       " 'Adel_Al-Jubeir',\n",
       " 'Adisai_Bodharamik',\n",
       " 'Adolfo_Aguilar_Zinser',\n",
       " 'Adolfo_Rodriguez_Saa',\n",
       " 'Adoor_Gopalakarishnan',\n",
       " 'Adriana_Lima',\n",
       " 'Adriana_Perez_Navarro',\n",
       " 'Adrianna_Zuzic',\n",
       " 'Adrian_Annus',\n",
       " 'Adrian_Fernandez',\n",
       " 'Adrian_McPherson',\n",
       " 'Adrian_Murrell',\n",
       " 'Adrian_Nastase',\n",
       " 'Adrien_Brody',\n",
       " 'Afton_Smith',\n",
       " 'Agbani_Darego',\n",
       " 'Agnelo_Queiroz',\n",
       " 'Agnes_Bruckner',\n",
       " 'Ahmad_Jbarah',\n",
       " 'Ahmad_Masood',\n",
       " 'Ahmed_Ahmed',\n",
       " 'Ahmed_Chalabi',\n",
       " 'Ahmed_Ghazi',\n",
       " 'Ahmed_Ibrahim_Bilal',\n",
       " 'Ahmed_Lopez',\n",
       " 'Ahmed_Qureia',\n",
       " 'Ahmet_Demir',\n",
       " 'Ahmet_Necdet_Sezer',\n",
       " 'Aicha_El_Ouafi',\n",
       " 'Aidan_Quinn',\n",
       " 'Aileen_Riggin_Soule',\n",
       " 'Ainsworth_Dyer',\n",
       " 'Ain_Seppik',\n",
       " 'Aishwarya_Rai',\n",
       " 'Aitor_Gonzalez',\n",
       " 'Aiysha_Smith',\n",
       " 'Ai_Sugiyama',\n",
       " 'Ajit_Agarkar',\n",
       " 'AJ_Cook',\n",
       " 'AJ_Lamas',\n",
       " 'Akbar_Al_Baker',\n",
       " 'Akbar_Hashemi_Rafsanjani',\n",
       " 'Akhmed_Zakayev',\n",
       " 'Akiko_Morigami',\n",
       " 'Akmal_Taher',\n",
       " 'Alain_Cervantes',\n",
       " 'Alain_Ducasse',\n",
       " 'Alanis_Morissette',\n",
       " 'Alanna_Ubach',\n",
       " 'Alan_Ball',\n",
       " 'Alan_Dershowitz',\n",
       " 'Alan_Dreher',\n",
       " 'Alan_Greenspan',\n",
       " 'Alan_Greer',\n",
       " 'Alan_Jackson',\n",
       " 'Alan_Mulally',\n",
       " 'Alan_Stonecipher',\n",
       " 'Alan_Tang_Kwong-wing',\n",
       " 'Alan_Trammell',\n",
       " 'Alan_Zemaitis',\n",
       " 'Alastair_Campbell',\n",
       " 'Alastair_Johnston',\n",
       " 'Albaro_Recoba',\n",
       " 'Alberta_Lee',\n",
       " 'Alberto_Acosta',\n",
       " 'Alberto_Fujimori',\n",
       " 'Alberto_Gonzales',\n",
       " 'Alberto_Ruiz_Gallardon',\n",
       " 'Alberto_Sordi',\n",
       " 'Albert_Brooks',\n",
       " 'Albert_Costa',\n",
       " 'Albert_Montanes',\n",
       " 'Albert_Pujols',\n",
       " 'Albrecht_Mentz',\n",
       " 'Aldo_Paredes',\n",
       " 'Alecos_Markides',\n",
       " 'Alec_Baldwin',\n",
       " 'Alejandro_Atchugarry',\n",
       " 'Alejandro_Avila',\n",
       " 'Alejandro_Fernandez',\n",
       " 'Alejandro_Gonzalez_Inarritu',\n",
       " 'Alejandro_Lembo',\n",
       " 'Alejandro_Lerner',\n",
       " 'Alejandro_Lopez',\n",
       " 'Alejandro_Toledo',\n",
       " 'Aleksander_Kwasniewski',\n",
       " 'Aleksander_Voloshin',\n",
       " 'Alek_Wek',\n",
       " 'Alessandra_Cerna',\n",
       " 'Alessandro_Nesta',\n",
       " 'Alexander_Downer',\n",
       " 'Alexander_Losyukov',\n",
       " 'Alexander_Lukashenko',\n",
       " 'Alexander_Payne',\n",
       " 'Alexander_Rumyantsev',\n",
       " 'Alexandra_Jackson',\n",
       " 'Alexandra_Pelosi',\n",
       " 'Alexandra_Rozovskaya',\n",
       " 'Alexandra_Spann',\n",
       " 'Alexandra_Stevenson',\n",
       " 'Alexandra_Vodjanikova',\n",
       " 'Alexandre_Daigle',\n",
       " 'Alexandre_Despatie',\n",
       " 'Alexandre_Herchcovitch',\n",
       " 'Alexandre_Vinokourov',\n",
       " 'Alexa_Loren',\n",
       " 'Alexa_Vega',\n",
       " 'Alexis_Bledel',\n",
       " 'Alexis_Dennisoff',\n",
       " 'Alex_Barros',\n",
       " 'Alex_Cabrera',\n",
       " 'Alex_Cejka',\n",
       " 'Alex_Corretja',\n",
       " 'Alex_Ferguson',\n",
       " 'Alex_Gonzalez',\n",
       " 'Alex_Holmes',\n",
       " 'Alex_King',\n",
       " 'Alex_Penelas',\n",
       " 'Alex_Popov',\n",
       " 'Alex_Sink',\n",
       " 'Alex_Wallau',\n",
       " 'Alex_Zanardi',\n",
       " 'Alfonso_Cuaron',\n",
       " 'Alfonso_Portillo',\n",
       " 'Alfonso_Soriano',\n",
       " 'Alfredo_di_Stefano',\n",
       " 'Alfredo_Moreno',\n",
       " 'Alfredo_Pena',\n",
       " 'Alfred_Ford',\n",
       " 'Alfred_Sant',\n",
       " 'Alice_Fisher',\n",
       " 'Alicia_Hollowell',\n",
       " 'Alicia_Keys',\n",
       " 'Alicia_Molik',\n",
       " 'Alicia_Silverstone',\n",
       " 'Alicia_Witt',\n",
       " 'Alimzhan_Tokhtakhounov',\n",
       " 'Alina_Kabaeva',\n",
       " 'Aline_Chretien',\n",
       " 'Alisha_Richman',\n",
       " 'Alison_Krauss',\n",
       " 'Alison_Lohman',\n",
       " 'Alistair_MacDonald',\n",
       " 'Ali_Abbas',\n",
       " 'Ali_Abdullah_Saleh',\n",
       " 'Ali_Adbul_Karim_Madani',\n",
       " 'Ali_Ahmeti',\n",
       " 'Ali_Bin_Hussein',\n",
       " 'Ali_Fallahian',\n",
       " 'Ali_Hammoud',\n",
       " 'Ali_Khamenei',\n",
       " 'Ali_Mohammed_Maher',\n",
       " 'Ali_Naimi',\n",
       " 'Allan_Houston',\n",
       " 'Allan_Kemakeza',\n",
       " 'Allan_Wagner',\n",
       " 'Allen_Iverson',\n",
       " 'Allen_Rock',\n",
       " 'Allison_Janney',\n",
       " 'Allison_Searing',\n",
       " 'Allyson_Felix',\n",
       " 'Ally_Sheedy',\n",
       " 'Alma_Powell',\n",
       " 'Almeida_Baptista',\n",
       " 'Alonzo_Mourning',\n",
       " 'Alvaro_Noboa',\n",
       " 'Alvaro_Silva_Calderon',\n",
       " 'Alvaro_Uribe',\n",
       " 'Alyse_Beaupre',\n",
       " 'Alyson_Hannigan',\n",
       " 'Aly_Wagner',\n",
       " 'Al_Cardenas',\n",
       " 'Al_Davis',\n",
       " 'Al_Gore',\n",
       " 'Al_Leiter',\n",
       " 'Al_Pacino',\n",
       " 'Al_Sharpton',\n",
       " 'Amanda_Beard',\n",
       " 'Amanda_Bynes',\n",
       " 'Amanda_Coetzer',\n",
       " 'Amanda_Marsh',\n",
       " 'Amanda_Plumer',\n",
       " 'Amber_Frey',\n",
       " 'Amber_Tamblyn',\n",
       " 'Ambrose_Lee',\n",
       " 'Amelia_Vega',\n",
       " 'Amelie_Mauresmo',\n",
       " 'Amer_al-Saadi',\n",
       " 'Amporn_Falise',\n",
       " 'Amram_Mitzna',\n",
       " 'Amr_Moussa',\n",
       " 'Amy_Brenneman',\n",
       " 'Amy_Cotton',\n",
       " 'Amy_Gale',\n",
       " 'Amy_Pascal',\n",
       " 'Amy_Redford',\n",
       " 'Amy_Smart',\n",
       " 'Amy_Yasbeck',\n",
       " 'Anastasia_Kelesidou',\n",
       " 'Anastasia_Myskina',\n",
       " 'Anatoliy_Kinakh',\n",
       " 'Ana_Claudia_Talancon',\n",
       " 'Ana_Guevara',\n",
       " 'Ana_Isabel_Sanchez',\n",
       " 'Ana_Palacio',\n",
       " 'Ana_Paula_Gerard',\n",
       " 'Ana_Sebastiao',\n",
       " 'Anderson_Varejao',\n",
       " 'Anders_Ebbeson',\n",
       " 'Anders_Fogh_Rasmussen',\n",
       " 'Andreas_Vinciguerra',\n",
       " 'Andrea_Bocelli',\n",
       " 'Andrea_De_Cruz',\n",
       " 'Andrea_Kiser',\n",
       " 'Andrea_Yates',\n",
       " 'Andrei_Konchalovsky',\n",
       " 'Andrei_Mikhnevich',\n",
       " 'Andrei_Nikolishin',\n",
       " 'Andres_DAlessandro',\n",
       " 'Andres_Manuel_Lopez_Obrador',\n",
       " 'Andres_Pastrana',\n",
       " 'Andrew_Bernard',\n",
       " 'Andrew_Bunner',\n",
       " 'Andrew_Caldecott',\n",
       " 'Andrew_Cuomo',\n",
       " 'Andrew_Fastow',\n",
       " 'Andrew_Firestone',\n",
       " 'Andrew_Gilligan',\n",
       " 'Andrew_Jarecki',\n",
       " 'Andrew_Luster',\n",
       " 'Andrew_Niccol',\n",
       " 'Andrew_Sabey',\n",
       " 'Andrew_Shutley',\n",
       " 'Andrew_Weissmann',\n",
       " 'Andrew_Wetzler',\n",
       " 'Andre_Agassi',\n",
       " 'Andre_Bucher',\n",
       " 'Andre_Lange',\n",
       " 'Andre_Smith',\n",
       " 'Andre_Techine',\n",
       " 'Andrzej_Tyszkiewicz',\n",
       " 'Andy_Benes',\n",
       " 'Andy_Bryant',\n",
       " 'Andy_Dick',\n",
       " 'Andy_Garcia',\n",
       " 'Andy_Graves',\n",
       " 'Andy_Griffith',\n",
       " 'Andy_Griggs',\n",
       " 'Andy_Hebb',\n",
       " 'Andy_Lau',\n",
       " 'Andy_Madikians',\n",
       " 'Andy_North',\n",
       " 'Andy_Perez',\n",
       " 'Andy_Roddick',\n",
       " 'Andy_Rooney',\n",
       " 'Andy_Warhol',\n",
       " 'Andy_Wisecarver',\n",
       " 'Anette_Hosoi',\n",
       " 'AnFernce_Negron',\n",
       " 'Angela_Alvarado_Rosa',\n",
       " 'Angela_Bassett',\n",
       " 'Angela_Lansbury',\n",
       " 'Angela_Mascia-Frye',\n",
       " 'Angela_Merkel',\n",
       " 'Angelica_Romero',\n",
       " 'Angelina_Jolie',\n",
       " 'Angelo_Genova',\n",
       " 'Angelo_Reyes',\n",
       " 'Angel_Lockward',\n",
       " 'Angel_Maza',\n",
       " 'Angie_Arzola',\n",
       " 'Angie_Martinez',\n",
       " 'Anibal_Ibarra',\n",
       " 'Anil_Ramsook',\n",
       " 'Anita_DeFrantz',\n",
       " 'Anja_Paerson',\n",
       " 'Anjum_Hussain',\n",
       " 'Anna_Chicherova',\n",
       " 'Anna_Faris',\n",
       " 'Anna_Jones',\n",
       " 'Anna_Kournikova',\n",
       " 'Anna_Nicole_Smith',\n",
       " 'Anneli_Jaatteenmaki',\n",
       " 'Annette_Bening',\n",
       " 'Annette_Lu',\n",
       " 'Anne_Cavers',\n",
       " 'Anne_Donovan',\n",
       " 'Anne_Heche',\n",
       " 'Anne_Krueger',\n",
       " 'Anne_McLellan',\n",
       " 'Anne_ONeil',\n",
       " 'Annie-Jeanne_Reynaud',\n",
       " 'Annie_Chaplin',\n",
       " 'Annie_Machon',\n",
       " 'Annika_Sorenstam',\n",
       " 'Ann_Godbehere',\n",
       " 'Ann_Landers',\n",
       " 'Ann_Morgan',\n",
       " 'Ann_Veneman',\n",
       " 'Antanas_Valionis',\n",
       " 'Anthony_Carter',\n",
       " 'Anthony_Corso',\n",
       " 'Anthony_Ervin',\n",
       " 'Anthony_Fauci',\n",
       " 'Anthony_Garotinho',\n",
       " 'Anthony_Hazen',\n",
       " 'Anthony_Hopkins',\n",
       " 'Anthony_LaPaglia',\n",
       " 'Anthony_Lee_Johnson',\n",
       " 'Anthony_Mazur',\n",
       " 'Anthony_Pico',\n",
       " 'Anthony_Pisciotti',\n",
       " 'Anthony_Principi',\n",
       " 'Anthony_Rackauckas',\n",
       " 'Anthony_Scott_Miller',\n",
       " 'Antje_Buschschulte',\n",
       " 'Antonio_Banderas',\n",
       " 'Antonio_Bernardo',\n",
       " 'Antonio_Cassano',\n",
       " 'Antonio_Catania',\n",
       " 'Antonio_Elias_Saca',\n",
       " 'Antonio_Palocci',\n",
       " 'Antonio_Trillanes',\n",
       " 'Antony_Leung',\n",
       " 'Anton_Balasingham',\n",
       " 'Antwun_Echols',\n",
       " 'Anwar_Ibrahim',\n",
       " 'Anzori_Kikalishvili',\n",
       " 'Aparna_Pillai',\n",
       " 'Aram_Adler',\n",
       " 'Arantxa_Sanchez-Vicario',\n",
       " 'Aretha_Franklin',\n",
       " 'Arianna_Huffington',\n",
       " 'Ariel_Sharon',\n",
       " 'Arie_Haan',\n",
       " 'Arif_Mardin',\n",
       " 'Ari_Bousbib',\n",
       " 'Ari_Fleischer',\n",
       " 'Arlen_Specter',\n",
       " 'Armando_Avila_Panchame',\n",
       " 'Armando_Calderon_Sol',\n",
       " 'Armando_Carrillo',\n",
       " 'Armand_Sargen',\n",
       " 'Arminio_Fraga',\n",
       " 'Arnaud_Clement',\n",
       " 'Arnaud_Lagardere',\n",
       " 'Arnie_Boehm',\n",
       " 'Arnoldo_Aleman',\n",
       " 'Arnold_Palmer',\n",
       " 'Arnold_Schwarzenegger',\n",
       " 'Arnold_Scott',\n",
       " 'Aron_Ralston',\n",
       " 'Arsinee_Khanjian',\n",
       " 'Arthur_Johnson',\n",
       " 'Arthur_Martinez',\n",
       " 'Artieas_Shanks',\n",
       " 'Arturo_Gatti',\n",
       " 'Art_Cooper',\n",
       " 'Art_Hoffmann',\n",
       " 'Art_Howe',\n",
       " 'Art_Lopez',\n",
       " 'Arye_Mekel',\n",
       " 'Asa_Hutchinson',\n",
       " 'Ascencion_Barajas',\n",
       " 'Ashanti',\n",
       " 'Ashlea_Talbot',\n",
       " 'Ashley_Judd',\n",
       " 'Ashley_Olsen',\n",
       " 'Ashley_Postell',\n",
       " 'Ashraf_Alasmar',\n",
       " 'Ashraf_Ghani',\n",
       " 'Ashton_Kutcher',\n",
       " 'Asif_Ali_Zardari',\n",
       " 'Asif_Hanif',\n",
       " 'Askar_Akayev',\n",
       " 'Asmaa_Assad',\n",
       " 'Assad_Ahmadi',\n",
       " 'Astou_Ndiaye-Diatta',\n",
       " 'Astrid_Betancourt',\n",
       " 'Astrid_Eyzaguirre',\n",
       " 'Atal_Bihari_Vajpayee',\n",
       " 'Ataollah_Mohajerani',\n",
       " 'Atiabet_Ijan_Amabel',\n",
       " 'Atom_Egoyan',\n",
       " 'Atsushi_Sato',\n",
       " 'Audrey_Lacroix',\n",
       " 'Audrey_Sauret',\n",
       " 'Augustin_Calleri',\n",
       " 'Augusto_Pinochet',\n",
       " 'Augusto_Roa_Bastos',\n",
       " 'Aung_San_Suu_Kyi',\n",
       " 'Austin_Kearns',\n",
       " 'Avril_Lavigne',\n",
       " 'Azmi_Bishara',\n",
       " 'Azra_Akin',\n",
       " 'Babe_Ruth',\n",
       " 'Baburam_Bhattari',\n",
       " 'Bak_Chang-Ryun',\n",
       " 'Barbara_Bach',\n",
       " 'Barbara_Becker',\n",
       " 'Barbara_Bodine',\n",
       " 'Barbara_Boxer',\n",
       " 'Barbara_Brezigar',\n",
       " 'Barbara_De_Brun',\n",
       " 'Barbara_Esbin',\n",
       " 'Barbara_Felt-Miller',\n",
       " 'Barbara_Roberts',\n",
       " 'Barbara_Walters',\n",
       " 'Barbora_Strycova',\n",
       " 'Barbra_Streisand',\n",
       " 'Barrett_Jackman',\n",
       " 'Barry_Alvarez',\n",
       " 'Barry_Bonds',\n",
       " 'Barry_Collier',\n",
       " 'Barry_Diller',\n",
       " 'Barry_Ford',\n",
       " 'Barry_Hinson',\n",
       " 'Barry_Nakell',\n",
       " 'Barry_Switzer',\n",
       " 'Barry_Williams',\n",
       " 'Barry_Zito',\n",
       " 'Bartosz_Kizierowski',\n",
       " 'Bart_Freundlich',\n",
       " 'Bart_Hendricks',\n",
       " 'Barzan_al-Tikriti',\n",
       " 'Basdeo_Panday',\n",
       " 'Bashar_Assad',\n",
       " 'Baz_Luhrmann',\n",
       " 'BB_King',\n",
       " 'Beatrice_Dalle',\n",
       " 'Beatriz_Merino',\n",
       " 'Beecher_Ray_Kirby',\n",
       " 'Begum_Khaleda_Zia',\n",
       " 'Bela_Karolyi',\n",
       " 'Benazir_Bhutto',\n",
       " 'Benedita_da_Silva',\n",
       " 'Benicio_Del_Toro',\n",
       " 'Benito_Santiago',\n",
       " 'Benjamin_Bratt',\n",
       " 'Benjamin_Franklin',\n",
       " 'Benjamin_Martinez',\n",
       " 'Benjamin_McKenzie',\n",
       " 'Benjamin_Netanyahu',\n",
       " 'Benjamin_Neulander',\n",
       " 'Ben_Affleck',\n",
       " 'Ben_Betts',\n",
       " 'Ben_Braun',\n",
       " 'Ben_Broussard',\n",
       " 'Ben_Cahoon',\n",
       " 'Ben_Chandler',\n",
       " 'Ben_Cohen',\n",
       " 'Ben_Curtis',\n",
       " 'Ben_Davis',\n",
       " 'Ben_Glisan',\n",
       " 'Ben_Howland',\n",
       " 'Ben_Kingsley',\n",
       " 'Ben_Lee',\n",
       " 'Ben_Stein',\n",
       " 'Ben_Wallace',\n",
       " 'Bernadette_Peters',\n",
       " 'Bernardo_Segura',\n",
       " 'Bernard_Ebbers',\n",
       " 'Bernard_Giraudeau',\n",
       " 'Bernard_Kerik',\n",
       " 'Bernard_Landry',\n",
       " 'Bernard_Law',\n",
       " 'Bernard_Lord',\n",
       " 'Bernard_Siegel',\n",
       " 'Bernice_Wong',\n",
       " 'Bertie_Ahern',\n",
       " 'Bertrand_Bonello',\n",
       " 'Bertrand_Delanoe',\n",
       " 'Beth_Blough',\n",
       " 'Beth_Jones',\n",
       " 'Betsy_Coffin',\n",
       " 'Betsy_Smith',\n",
       " 'Bettina_Rheims',\n",
       " 'Betty_Garrison',\n",
       " 'Betty_Williams',\n",
       " 'Beyonce_Knowles',\n",
       " 'Bianca_Jagger',\n",
       " 'Bijan_Darvish',\n",
       " 'Bijan_Namdar_Zangeneh',\n",
       " 'Bilal_Erdogan',\n",
       " 'Biljana_Plavsic',\n",
       " 'Billy_Andrade',\n",
       " 'Billy_Beane',\n",
       " 'Billy_Bob_Thornton',\n",
       " 'Billy_Boyd',\n",
       " 'Billy_Crawford',\n",
       " 'Billy_Crystal',\n",
       " 'Billy_Donovan',\n",
       " 'Billy_Edelin',\n",
       " 'Billy_Gilman',\n",
       " 'Billy_Graham',\n",
       " 'Billy_Joel',\n",
       " 'Billy_Rork',\n",
       " 'Billy_Sollie',\n",
       " 'Billy_Tibbets',\n",
       " 'Bill_Belichick',\n",
       " 'Bill_Bradley',\n",
       " 'Bill_Butler',\n",
       " 'Bill_Byrne',\n",
       " 'Bill_Callahan',\n",
       " 'Bill_Carmody',\n",
       " 'Bill_Cartwright',\n",
       " 'Bill_Clancy',\n",
       " 'Bill_Clinton',\n",
       " 'Bill_Curry',\n",
       " 'Bill_Doba',\n",
       " 'Bill_Duffey',\n",
       " 'Bill_Elliott',\n",
       " 'Bill_Fennelly',\n",
       " 'Bill_Frist',\n",
       " 'Bill_Gates',\n",
       " 'Bill_Graham',\n",
       " 'Bill_Guerin',\n",
       " 'Bill_Herrion',\n",
       " 'Bill_Hughes',\n",
       " 'Bill_King',\n",
       " 'Bill_Kollar',\n",
       " 'Bill_Kong',\n",
       " 'Bill_Lerach',\n",
       " 'Bill_Maher',\n",
       " 'Bill_Mauldin',\n",
       " 'Bill_McBride',\n",
       " 'Bill_Nelson',\n",
       " 'Bill_OReilly',\n",
       " 'Bill_Parcells',\n",
       " 'Bill_Parsons',\n",
       " 'Bill_Paxton',\n",
       " 'Bill_Pryor',\n",
       " 'Bill_Rainer',\n",
       " 'Bill_Readdy',\n",
       " 'Bill_Richardson',\n",
       " 'Bill_Self',\n",
       " 'Bill_Simon',\n",
       " 'Bill_Sizemore',\n",
       " 'Bill_Stapleton',\n",
       " 'Bill_Stein',\n",
       " 'Bill_Walton',\n",
       " 'Bing_Crosby',\n",
       " 'Binyamin_Ben-Eliezer',\n",
       " 'Bison_Dele',\n",
       " 'Bixente_LIzarazu',\n",
       " 'BJ_Habibie',\n",
       " 'Blas_Ople',\n",
       " 'Blythe_Danner',\n",
       " 'Blythe_Hartley',\n",
       " 'Bobby_Bowden',\n",
       " 'Bobby_Goldwater',\n",
       " 'Bobby_Jackson',\n",
       " 'Bobby_Kielty',\n",
       " 'Bobby_Robson',\n",
       " 'Bobo_Balde',\n",
       " 'Bob_Alper',\n",
       " 'Bob_Beauprez',\n",
       " 'Bob_Bowlsby',\n",
       " 'Bob_Cantrell',\n",
       " 'Bob_Colvin',\n",
       " 'Bob_Crippen',\n",
       " 'Bob_Curtis',\n",
       " 'Bob_Dole',\n",
       " 'Bob_Eskridge',\n",
       " 'Bob_Ferguson',\n",
       " 'Bob_Geldof',\n",
       " 'Bob_Goldman',\n",
       " 'Bob_Graham',\n",
       " 'Bob_Guccione',\n",
       " 'Bob_Hartley',\n",
       " 'Bob_Hayes',\n",
       " 'Bob_Herz',\n",
       " 'Bob_Holden',\n",
       " 'Bob_Hope',\n",
       " 'Bob_Huggins',\n",
       " 'Bob_Iger',\n",
       " 'Bob_Krueger',\n",
       " 'Bob_Melvin',\n",
       " 'Bob_Menendez',\n",
       " 'Bob_Newhart',\n",
       " 'Bob_Petrino',\n",
       " 'Bob_Riley',\n",
       " 'Bob_Stoops',\n",
       " 'Bob_Sulkin',\n",
       " 'Bob_Taft',\n",
       " 'Bob_Wright',\n",
       " 'Bode_Miller',\n",
       " 'Bonnie_Fuller',\n",
       " 'Bonnie_Hunt',\n",
       " 'Bono',\n",
       " 'Boris_Becker',\n",
       " 'Boris_Berezovsky',\n",
       " 'Boris_Henry',\n",
       " 'Boris_Jordan',\n",
       " 'Boris_Trajkovski',\n",
       " 'Boris_Yeltsin',\n",
       " 'Boutros_Boutros_Ghali',\n",
       " 'Bo_Pelini',\n",
       " 'Bo_Ryan',\n",
       " 'Brady_Rodgers',\n",
       " 'Brad_Alexander_Smith',\n",
       " 'Brad_Banks',\n",
       " 'Brad_Brownell',\n",
       " 'Brad_Garrett',\n",
       " 'Brad_Gushue',\n",
       " 'Brad_Johnson',\n",
       " 'Brad_Miller',\n",
       " 'Brad_Pitt',\n",
       " 'Brad_Russ',\n",
       " 'Brad_Smith',\n",
       " 'Brad_Wilk',\n",
       " 'Brajesh_Mishra',\n",
       " 'Brandon_Boyd',\n",
       " 'Brandon_Fails',\n",
       " 'Brandon_Hammond',\n",
       " 'Brandon_Inge',\n",
       " 'Brandon_Jones',\n",
       " 'Brandon_Knight',\n",
       " 'Brandon_Larson',\n",
       " 'Brandon_Lloyd',\n",
       " 'Brandon_Robinson',\n",
       " 'Brandon_Spann',\n",
       " 'Brandon_Webb',\n",
       " 'Branko_Crvenkovski',\n",
       " 'Brawley_King',\n",
       " 'Brendan_Fraser',\n",
       " 'Brendan_Gaughan',\n",
       " 'Brendan_Hansen',\n",
       " 'Brendan_Stai',\n",
       " 'Brenda_Magana',\n",
       " 'Brenda_van_Dam',\n",
       " 'Brenda_Wilson',\n",
       " 'Brennon_Leighton',\n",
       " 'Brent_Coles',\n",
       " 'Brett_Boone',\n",
       " 'Brett_Hawke',\n",
       " 'Brett_Hull',\n",
       " 'Brett_Perry',\n",
       " 'Brian_Billick',\n",
       " 'Brian_Campbell',\n",
       " 'Brian_Cashman',\n",
       " 'Brian_Clemens',\n",
       " 'Brian_Cook',\n",
       " 'Brian_Cowen',\n",
       " 'Brian_De_Palma',\n",
       " 'Brian_Florence',\n",
       " 'Brian_Grazier',\n",
       " 'Brian_Gregory',\n",
       " 'Brian_Griese',\n",
       " 'Brian_Heidik',\n",
       " 'Brian_Henson',\n",
       " 'Brian_Jordan',\n",
       " 'Brian_Kerr',\n",
       " 'Brian_Lara',\n",
       " 'Brian_McIntyre',\n",
       " 'Brian_Meadors',\n",
       " 'Brian_Mulroney',\n",
       " 'Brian_Olson',\n",
       " 'Brian_Pavlich',\n",
       " 'Brian_Scalabrine',\n",
       " 'Brian_Schneider',\n",
       " 'Brian_StPierre',\n",
       " 'Brian_Van_Dusen',\n",
       " 'Brian_Weaver',\n",
       " 'Brian_Wells',\n",
       " 'Brian_Williams',\n",
       " 'Bridgette_Wilson-Sampras',\n",
       " 'Bridget_Fonda',\n",
       " 'Brigitte_Boisselier',\n",
       " 'Britney_Spears',\n",
       " 'Brittany_Snow',\n",
       " 'Brock_Berlin',\n",
       " 'Bronson_Arroyo',\n",
       " 'Brooke_Adams',\n",
       " 'Brooke_Gordon',\n",
       " 'Brooke_Shields',\n",
       " 'Brook_Robinson',\n",
       " 'Bruce_Arena',\n",
       " 'Bruce_Gebhardt',\n",
       " 'Bruce_Lunsford',\n",
       " 'Bruce_Paltrow',\n",
       " 'Bruce_Springsteen',\n",
       " 'Bruce_Van_De_Velde',\n",
       " 'Bruce_Weber',\n",
       " 'Bruce_Willis',\n",
       " 'Bruna_Colosio',\n",
       " 'Bruno_Junquiera',\n",
       " 'Bryant_Young',\n",
       " 'Bryan_Adams',\n",
       " 'Bryan_Chui',\n",
       " 'Bryan_Cooley',\n",
       " 'Bryan_Murray',\n",
       " 'Bryan_Thomas',\n",
       " 'Bryce_Carmine',\n",
       " 'Buck_Rodgers',\n",
       " 'Buddy_Ryan',\n",
       " 'Budd_Schulberg',\n",
       " 'Bud_Selig',\n",
       " 'Buford_Blount',\n",
       " 'Bulent_Ecevit',\n",
       " 'Bustam_A_Zedan_Aljanabi',\n",
       " 'Butch_Davis',\n",
       " 'Buzz_Hargrove',\n",
       " 'Byron_Scott',\n",
       " 'Cabas',\n",
       " 'Caio_Blat',\n",
       " 'Calbert_Cheaney',\n",
       " 'Calista_Flockhart',\n",
       " 'Calvin_Harrison',\n",
       " 'Calvin_Joseph_Coleman',\n",
       " 'Cameron_Diaz',\n",
       " 'Camilla_Parker_Bowles',\n",
       " 'Camille_Colvin',\n",
       " 'Camille_Lewis',\n",
       " 'Camryn_Manheim',\n",
       " 'Candace_Sutton',\n",
       " 'Candice_Beatty',\n",
       " 'Candice_Bergen',\n",
       " 'Candie_Kung',\n",
       " 'Carey_Lowell',\n",
       " 'Carina_Lau_Ka-ling',\n",
       " 'Carin_Koch',\n",
       " 'Cari_Davis',\n",
       " 'Carla_Del_Ponte',\n",
       " 'Carla_Gay_Balingit',\n",
       " 'Carla_Gugino',\n",
       " 'Carla_Moreno',\n",
       " 'Carla_Myers',\n",
       " 'Carla_Sullivan',\n",
       " 'Carla_Tricoli',\n",
       " 'Carlos_Alberto',\n",
       " 'Carlos_Alberto_Parreira',\n",
       " 'Carlos_Arroyo',\n",
       " 'Carlos_Barra',\n",
       " 'Carlos_Barragan',\n",
       " 'Carlos_Beltran',\n",
       " 'Carlos_Bianchi',\n",
       " 'Carlos_De_Abreu',\n",
       " 'Carlos_Fasciolo',\n",
       " 'Carlos_Ghosn',\n",
       " 'Carlos_Iturgaitz',\n",
       " 'Carlos_Juarez',\n",
       " 'Carlos_Lordkipanitse',\n",
       " 'Carlos_Manuel_Pruneda',\n",
       " 'Carlos_Menem',\n",
       " 'Carlos_Mesa',\n",
       " 'Carlos_Moya',\n",
       " 'Carlos_Ortega',\n",
       " 'Carlos_Paternina',\n",
       " 'Carlos_Queiroz',\n",
       " 'Carlos_Quintanilla_Schmidt',\n",
       " 'Carlos_Ruckauf',\n",
       " 'Carlos_Ruiz',\n",
       " 'Carlos_Salinas',\n",
       " 'Carlos_Savedra',\n",
       " 'Carlos_Vives',\n",
       " 'Carlo_Ancelotti',\n",
       " 'Carlo_Azeglio_Ciampi',\n",
       " 'Carlton_Baugh',\n",
       " 'Carlton_Dotson',\n",
       " 'Carly_Fiorina',\n",
       " 'Carly_Gullickson',\n",
       " 'Carl_Levin',\n",
       " 'Carl_Pope',\n",
       " 'Carl_Reiner',\n",
       " 'Carmen_Electra',\n",
       " 'Carolina_Barco',\n",
       " 'Carolina_Kluft',\n",
       " 'Carolina_Moraes',\n",
       " 'Caroline_Dhavernas',\n",
       " 'Caroline_Kennedy',\n",
       " 'Caroline_Link',\n",
       " 'Carolyn_Dawn_Johnson',\n",
       " 'Carolyn_Kuhl',\n",
       " 'Carol_Burnett',\n",
       " 'Carol_Carmody',\n",
       " 'Carol_Moseley_Braun',\n",
       " 'Carol_Niedermayer',\n",
       " 'Carol_Williams',\n",
       " 'Carrie-Anne_Moss',\n",
       " 'Carroll_Weimer',\n",
       " 'Carson_Daly',\n",
       " 'Carson_Palmer',\n",
       " 'Casey_Crowder',\n",
       " 'Casey_Mears',\n",
       " 'Cassandra_Heise',\n",
       " 'Cass_Ballenger',\n",
       " 'Casy_Preslar',\n",
       " 'Cate_Blanchett',\n",
       " 'Catherine_Bell',\n",
       " 'Catherine_Deneuve',\n",
       " 'Catherine_Donkers',\n",
       " 'Catherine_Ndereba',\n",
       " 'Catherine_Woodard',\n",
       " 'Catherine_Zeta-Jones',\n",
       " 'Cathryn_Crawford',\n",
       " 'Cathy_Chisholm',\n",
       " 'Cathy_Cunningham',\n",
       " 'Cathy_Freeman',\n",
       " 'Catriona_Le_May_Doan',\n",
       " 'Cecile_de_France',\n",
       " 'Cecilia_Bolocco',\n",
       " 'Cecilia_Chang',\n",
       " 'Cecilia_Cheung',\n",
       " 'Cedric_Benson',\n",
       " 'Celia_Cruz',\n",
       " 'Celine_Dion',\n",
       " 'Celso_Amorim',\n",
       " 'Celso_Lafer',\n",
       " 'Cemil_Cicek',\n",
       " 'Cesar_Gaviria',\n",
       " 'Cesar_Maia',\n",
       " 'Chadha_Gurinder',\n",
       " 'Chakib_Khelil',\n",
       " 'Chance_Mock',\n",
       " 'Chanda_Rubin',\n",
       " 'Chandrika_Kumaratunga',\n",
       " 'Chang_Dae-whan',\n",
       " 'Chang_Jae_On',\n",
       " 'Chang_Saio-yue',\n",
       " 'Chang_Sang',\n",
       " 'Chang_Tso',\n",
       " 'Chante_Jawan_Mallard',\n",
       " 'Chan_Choi',\n",
       " 'Chan_Gailey',\n",
       " 'Chan_Ho_Park',\n",
       " 'Charla_Moye',\n",
       " 'Charlene_Barshefsky',\n",
       " 'Charles_Bell',\n",
       " 'Charles_Bronson',\n",
       " 'Charles_Chandler_IV',\n",
       " 'Charles_Cope',\n",
       " 'Charles_Grassley',\n",
       " 'Charles_Holzner',\n",
       " 'Charles_Ingram',\n",
       " 'Charles_Kartman',\n",
       " 'Charles_Lebois',\n",
       " 'Charles_Mathews',\n",
       " 'Charles_Moose',\n",
       " 'Charles_Pickering',\n",
       " 'Charles_Pouty',\n",
       " 'Charles_Richardson',\n",
       " 'Charles_Rogers',\n",
       " 'Charles_Schumer',\n",
       " 'Charles_Tannok',\n",
       " 'Charles_Taylor',\n",
       " 'Charley_Armey',\n",
       " 'Charlie_Coles',\n",
       " 'Charlie_Deane',\n",
       " 'Charlie_Garner',\n",
       " 'Charlie_Hunnam',\n",
       " 'Charlie_Sheen',\n",
       " 'Charlie_Williams',\n",
       " 'Charlie_Zaa',\n",
       " 'Charlize_Theron',\n",
       " 'Charlotte_Casiraghi',\n",
       " 'Charlotte_Chambers',\n",
       " 'Charlotte_Church',\n",
       " 'Charlotte_Rampling',\n",
       " 'Charlton_Heston',\n",
       " 'Charmaine_Crooks',\n",
       " 'Chawki_Armali',\n",
       " 'Cha_Yung-gu',\n",
       " 'Chea_Sophara',\n",
       " 'Chelsea_Clinton',\n",
       " 'Chen_Kaige',\n",
       " 'Chen_Liang_Yu',\n",
       " 'Chen_Shui-bian',\n",
       " 'Chen_Tsai-chin',\n",
       " 'Cherie_Blair',\n",
       " 'Cherry_Jones',\n",
       " 'Cheryl_Ford',\n",
       " 'Cheryl_Hines',\n",
       " 'Cheryl_James',\n",
       " 'Cheryl_Little',\n",
       " 'Cheryl_Tiegs',\n",
       " 'Chhouk_Rin',\n",
       " 'Chick_Hearn',\n",
       " 'Chin-Feng_Chen',\n",
       " 'Chin-Hui_Tsao',\n",
       " 'Chip_Burrus',\n",
       " 'Chip_Ganassi',\n",
       " 'Chip_Knight',\n",
       " 'Chistian_Stahl',\n",
       " 'Chita_Rivera',\n",
       " 'Chloe_Sevigny',\n",
       " 'Choi_Sung-hong',\n",
       " 'Choi_Yun-yong',\n",
       " 'Chok_Tong_Goh',\n",
       " 'Cho_Myung-kyun',\n",
       " 'Christiane_Wulff',\n",
       " 'Christian_Bale',\n",
       " 'Christian_Fittipaldi',\n",
       " 'Christian_Gimenez',\n",
       " 'Christian_Lacroix',\n",
       " 'Christian_Lirette',\n",
       " 'Christian_Longo',\n",
       " 'Christian_Malcolm',\n",
       " 'Christian_Olsson',\n",
       " 'Christian_Patino',\n",
       " 'Christian_Von_Wernich',\n",
       " 'Christian_Wulff',\n",
       " 'Christina_Aguilera',\n",
       " 'Christina_Sawaya',\n",
       " 'Christine_Arron',\n",
       " 'Christine_Baumgartner',\n",
       " 'Christine_Ebersole',\n",
       " 'Christine_Gregoire',\n",
       " 'Christine_Rau',\n",
       " 'Christine_Todd_Whitman',\n",
       " 'Christopher_Amolsch',\n",
       " 'Christopher_Conyers',\n",
       " 'Christopher_Matero',\n",
       " 'Christopher_Patten',\n",
       " 'Christopher_Reeve',\n",
       " 'Christopher_Russell',\n",
       " 'Christopher_Speer',\n",
       " 'Christopher_Walken',\n",
       " 'Christopher_Whittle',\n",
       " 'Christoph_Daum',\n",
       " 'Christy_Ferer',\n",
       " 'Christy_Turlington',\n",
       " 'Chris_Andrews',\n",
       " 'Chris_Bell',\n",
       " 'Chris_Byrd',\n",
       " 'Chris_Cirino',\n",
       " 'Chris_Claiborne',\n",
       " 'Chris_Columbus',\n",
       " 'Chris_Cookson',\n",
       " 'Chris_Cooper',\n",
       " 'Chris_Cornell',\n",
       " 'Chris_Crocker',\n",
       " 'Chris_Dodd',\n",
       " 'Chris_Forsyth',\n",
       " 'Chris_Gratton',\n",
       " 'Chris_Hernandez',\n",
       " 'Chris_Klein',\n",
       " 'Chris_Kolanas',\n",
       " 'Chris_Matthews',\n",
       " 'Chris_Moore',\n",
       " 'Chris_Neil',\n",
       " 'Chris_Noth',\n",
       " 'Chris_Penn',\n",
       " 'Chris_Pronger',\n",
       " 'Chris_Reitsma',\n",
       " 'Chris_Rock',\n",
       " 'Chris_Simon',\n",
       " 'Chris_Swecker',\n",
       " 'Chris_Terry',\n",
       " 'Chris_Thomas',\n",
       " 'Chris_Tucker',\n",
       " 'Chris_Whitney',\n",
       " 'Chuanyun_Li',\n",
       " 'Chuck_Amato',\n",
       " 'Chuck_Bednarik',\n",
       " 'Chuck_Eidson',\n",
       " 'Chuck_Finley',\n",
       " 'Chuck_Hagel',\n",
       " 'Chuck_Woolery',\n",
       " 'Chuck_Yeager',\n",
       " 'Chung_Mong-hun',\n",
       " 'Chung_Mong-joon',\n",
       " 'Chyung_Dai-chul',\n",
       " ...]"
      ]
     },
     "execution_count": 9,
     "metadata": {},
     "output_type": "execute_result"
    }
   ],
   "source": [
    "os.listdir('lfw')"
   ]
  },
  {
   "cell_type": "code",
   "execution_count": 10,
   "id": "7976c292-8905-4aa9-ab76-9ee1d644a49d",
   "metadata": {},
   "outputs": [],
   "source": [
    "import uuid"
   ]
  },
  {
   "cell_type": "code",
   "execution_count": 11,
   "id": "07b04f3c-fde4-42f3-99ef-7d3077584d0e",
   "metadata": {},
   "outputs": [
    {
     "data": {
      "text/plain": [
       "UUID('ee84b05b-bafc-11ef-ba6c-cc474005ef57')"
      ]
     },
     "execution_count": 11,
     "metadata": {},
     "output_type": "execute_result"
    }
   ],
   "source": [
    "uuid.uuid1()"
   ]
  },
  {
   "cell_type": "code",
   "execution_count": 12,
   "id": "aa4ed4b4-fed3-4ca9-97c3-0de8e4038e37",
   "metadata": {},
   "outputs": [],
   "source": [
    "cap  = cv2.VideoCapture(1)\n",
    "while cap.isOpened():\n",
    "    ret,frame = cap.read()\n",
    "    #250x250\n",
    "    frame = frame[120:120+250,200:200+250,:]\n",
    "\n",
    "    if cv2.waitKey(1) & 0XFF == ord('a'):\n",
    "        imgname = os.path.join(ANC_PATH , '{}.jpg'.format(uuid.uuid1()))\n",
    "        cv2.imwrite(imgname,frame)\n",
    "        \n",
    "\n",
    "    if cv2.waitKey(1) & 0XFF == ord('p'):\n",
    "        imgname = os.path.join(POS_PATH , '{}.jpg'.format(uuid.uuid1()))\n",
    "        cv2.imwrite(imgname,frame)\n",
    "    \n",
    "    cv2.imshow('Image Collection',frame)\n",
    "    #breaking gracefully\n",
    "    if cv2.waitKey(1) & 0XFF == ord('q'):\n",
    "        break\n",
    "\n",
    "#Release the webcam\n",
    "cap.release()\n",
    "\n",
    "#Close the image show frame\n",
    "cv2.destroyAllWindows()\n"
   ]
  },
  {
   "cell_type": "code",
   "execution_count": 13,
   "id": "fe848171-44c2-442a-86e9-ca0709da0354",
   "metadata": {},
   "outputs": [
    {
     "name": "stdout",
     "output_type": "stream",
     "text": [
      "\u001b[1;31mDocstring:\u001b[0m\n",
      "waitKey([, delay]) -> retval\n",
      ".   @brief Waits for a pressed key.\n",
      ".   \n",
      ".   The function waitKey waits for a key event infinitely (when \\f$\\texttt{delay}\\leq 0\\f$ ) or for delay\n",
      ".   milliseconds, when it is positive. Since the OS has a minimum time between switching threads, the\n",
      ".   function will not wait exactly delay ms, it will wait at least delay ms, depending on what else is\n",
      ".   running on your computer at that time. It returns the code of the pressed key or -1 if no key was\n",
      ".   pressed before the specified time had elapsed. To check for a key press but not wait for it, use\n",
      ".   #pollKey.\n",
      ".   \n",
      ".   @note The functions #waitKey and #pollKey are the only methods in HighGUI that can fetch and handle\n",
      ".   GUI events, so one of them needs to be called periodically for normal event processing unless\n",
      ".   HighGUI is used within an environment that takes care of event processing.\n",
      ".   \n",
      ".   @note The function only works if there is at least one HighGUI window created and the window is\n",
      ".   active. If there are several HighGUI windows, any of them can be active.\n",
      ".   \n",
      ".   @param delay Delay in milliseconds. 0 is the special value that means \"forever\".\n",
      "\u001b[1;31mType:\u001b[0m      builtin_function_or_method"
     ]
    }
   ],
   "source": [
    "cv2.waitKey??"
   ]
  },
  {
   "cell_type": "code",
   "execution_count": 14,
   "id": "309c1fee-591d-42a7-bc70-c35707762b6e",
   "metadata": {
    "scrolled": true
   },
   "outputs": [],
   "source": [
    "# plt.imshow(frame)"
   ]
  },
  {
   "cell_type": "code",
   "execution_count": 15,
   "id": "ac752c34-625b-4f1a-8c17-94cda4a4be0f",
   "metadata": {},
   "outputs": [],
   "source": [
    "# plt.imshow(frame[120:120+250,200:200+250,:])"
   ]
  },
  {
   "cell_type": "code",
   "execution_count": 16,
   "id": "dd75e7b6-a425-4144-93f7-519466f9312b",
   "metadata": {},
   "outputs": [
    {
     "data": {
      "text/plain": [
       "'data\\\\anchor\\\\*.jpg'"
      ]
     },
     "execution_count": 16,
     "metadata": {},
     "output_type": "execute_result"
    }
   ],
   "source": [
    "ANC_PATH+'\\*.jpg'"
   ]
  },
  {
   "cell_type": "code",
   "execution_count": 17,
   "id": "73111ba6-4457-41df-a08b-f61d7a6759c2",
   "metadata": {},
   "outputs": [],
   "source": [
    "anchor = tf.data.Dataset.list_files(ANC_PATH+'\\*.jpg').take(10)\n",
    "positive = tf.data.Dataset.list_files(POS_PATH+'\\*.jpg').take(10)\n",
    "negative = tf.data.Dataset.list_files(NEG_PATH+'\\*.jpg').take(10)"
   ]
  },
  {
   "cell_type": "code",
   "execution_count": 18,
   "id": "d52f3dd9-6c14-45da-9caa-7b0a86ca00ec",
   "metadata": {},
   "outputs": [
    {
     "data": {
      "text/plain": [
       "b'data\\\\anchor\\\\img17.jpg'"
      ]
     },
     "execution_count": 18,
     "metadata": {},
     "output_type": "execute_result"
    }
   ],
   "source": [
    "dir_img = anchor.as_numpy_iterator()\n",
    "dir_img.next()"
   ]
  },
  {
   "cell_type": "code",
   "execution_count": 19,
   "id": "008f27fc-5f4e-49e5-9b61-c65ba0c227f2",
   "metadata": {},
   "outputs": [],
   "source": [
    "def preprocess(file_path):\n",
    "    byte_img = tf.io.read_file(file_path)\n",
    "    img = tf.io.decode_jpeg(byte_img)\n",
    "    img = tf.image.resize(img,(100,100))\n",
    "    img = img/255.0\n",
    "    return img"
   ]
  },
  {
   "cell_type": "code",
   "execution_count": 20,
   "id": "6e02fe06-df2f-4706-a03e-34b0d51749e3",
   "metadata": {},
   "outputs": [],
   "source": [
    "img = preprocess('data\\\\anchor\\\\img1.jpg')"
   ]
  },
  {
   "cell_type": "code",
   "execution_count": 21,
   "id": "104d727d-977b-4094-987a-17e3f80cd845",
   "metadata": {},
   "outputs": [
    {
     "data": {
      "text/plain": [
       "<matplotlib.image.AxesImage at 0x2028f254340>"
      ]
     },
     "execution_count": 21,
     "metadata": {},
     "output_type": "execute_result"
    },
    {
     "data": {
      "image/png": "[encoded data removed]",
      "text/plain": [
       "<Figure size 640x480 with 1 Axes>"
      ]
     },
     "metadata": {},
     "output_type": "display_data"
    }
   ],
   "source": [
    "plt.imshow(img)"
   ]
  },
  {
   "cell_type": "code",
   "execution_count": 22,
   "id": "62484546-b0fa-452c-ac78-532ccc943132",
   "metadata": {},
   "outputs": [
    {
     "data": {
      "text/plain": [
       "1.0"
      ]
     },
     "execution_count": 22,
     "metadata": {},
     "output_type": "execute_result"
    }
   ],
   "source": [
    "img.numpy().max()"
   ]
  },
  {
   "cell_type": "code",
   "execution_count": 23,
   "id": "47c8c09f-2483-4f50-b2b9-cbe0364e5bb4",
   "metadata": {},
   "outputs": [],
   "source": [
    "# dataset.map(preprocess)"
   ]
  },
  {
   "cell_type": "code",
   "execution_count": 24,
   "id": "fe583325-8903-4152-a435-7c5d301c9e07",
   "metadata": {},
   "outputs": [],
   "source": [
    "positives = tf.data.Dataset.zip((anchor,positive,tf.data.Dataset.from_tensor_slices(tf.ones(len(anchor)))))\n",
    "negatives = tf.data.Dataset.zip((anchor,negative,tf.data.Dataset.from_tensor_slices(tf.zeros(len(anchor)))))\n",
    "data = positives.concatenate(negatives)"
   ]
  },
  {
   "cell_type": "code",
   "execution_count": 25,
   "id": "574d1d48-37dc-40a2-bf12-68f77e9bc97e",
   "metadata": {},
   "outputs": [],
   "source": [
    "samples = data.as_numpy_iterator()\n",
    "example = samples.next()"
   ]
  },
  {
   "cell_type": "code",
   "execution_count": 26,
   "id": "8d5d5f92-d0ff-47dc-a2bc-ac7d09495d72",
   "metadata": {},
   "outputs": [
    {
     "data": {
      "text/plain": [
       "(b'data\\\\anchor\\\\img39.jpg', b'data\\\\positive\\\\img32.jpg', 1.0)"
      ]
     },
     "execution_count": 26,
     "metadata": {},
     "output_type": "execute_result"
    }
   ],
   "source": [
    "example"
   ]
  },
  {
   "cell_type": "code",
   "execution_count": 27,
   "id": "a8036b9d-cb2a-49be-b249-d48cee685c86",
   "metadata": {},
   "outputs": [],
   "source": [
    "def preprocess_twin(input_img,validation_img,label):\n",
    "    return (preprocess(input_img),preprocess(validation_img),label)"
   ]
  },
  {
   "cell_type": "code",
   "execution_count": 28,
   "id": "9cabcbca-8819-438b-8ecd-ade478c9806c",
   "metadata": {},
   "outputs": [],
   "source": [
    "res = preprocess_twin(*example)\n"
   ]
  },
  {
   "cell_type": "code",
   "execution_count": 29,
   "id": "36a7147c-7c55-4395-87c2-5a1986260ac6",
   "metadata": {},
   "outputs": [
    {
     "data": {
      "text/plain": [
       "1.0"
      ]
     },
     "execution_count": 29,
     "metadata": {},
     "output_type": "execute_result"
    }
   ],
   "source": [
    "res[2]"
   ]
  },
  {
   "cell_type": "code",
   "execution_count": 30,
   "id": "d8fbb1dc-8e2c-46f1-8d64-04f79ef11396",
   "metadata": {},
   "outputs": [],
   "source": [
    "data = data.map(preprocess_twin)\n",
    "data = data.cache()\n",
    "data = data.shuffle(buffer_size=1024)"
   ]
  },
  {
   "cell_type": "code",
   "execution_count": 31,
   "id": "d05df426-ba85-4a95-b127-8a98dde1067a",
   "metadata": {},
   "outputs": [
    {
     "data": {
      "text/plain": [
       "<ShuffleDataset element_spec=(TensorSpec(shape=(100, 100, None), dtype=tf.float32, name=None), TensorSpec(shape=(100, 100, None), dtype=tf.float32, name=None), TensorSpec(shape=(), dtype=tf.float32, name=None))>"
      ]
     },
     "execution_count": 31,
     "metadata": {},
     "output_type": "execute_result"
    }
   ],
   "source": [
    "data"
   ]
  },
  {
   "cell_type": "code",
   "execution_count": 32,
   "id": "a4e63297-c014-4408-bfc2-1442ed553cb0",
   "metadata": {},
   "outputs": [],
   "source": [
    "samples = data.as_numpy_iterator()"
   ]
  },
  {
   "cell_type": "code",
   "execution_count": 33,
   "id": "10d011fd-e6ed-407f-a39b-71b5d0290e8d",
   "metadata": {},
   "outputs": [],
   "source": [
    "sam = samples.next()"
   ]
  },
  {
   "cell_type": "code",
   "execution_count": 34,
   "id": "d71f9af7-0912-483d-8b2b-e81d87c08fb3",
   "metadata": {},
   "outputs": [
    {
     "data": {
      "text/plain": [
       "<matplotlib.image.AxesImage at 0x20291e12430>"
      ]
     },
     "execution_count": 34,
     "metadata": {},
     "output_type": "execute_result"
    },
    {
     "data": {
      "image/png": "[encoded data removed]",
      "text/plain": [
       "<Figure size 640x480 with 1 Axes>"
      ]
     },
     "metadata": {},
     "output_type": "display_data"
    }
   ],
   "source": [
    "plt.imshow(sam[0])"
   ]
  },
  {
   "cell_type": "code",
   "execution_count": 35,
   "id": "61159592-07e0-4c69-b5fa-0416a49da34f",
   "metadata": {},
   "outputs": [
    {
     "data": {
      "text/plain": [
       "<matplotlib.image.AxesImage at 0x2028f34fd30>"
      ]
     },
     "execution_count": 35,
     "metadata": {},
     "output_type": "execute_result"
    },
    {
     "data": {
      "image/png": "[encoded data removed]",
      "text/plain": [
       "<Figure size 640x480 with 1 Axes>"
      ]
     },
     "metadata": {},
     "output_type": "display_data"
    }
   ],
   "source": [
    "plt.imshow(sam[1])"
   ]
  },
  {
   "cell_type": "code",
   "execution_count": 36,
   "id": "b0cf65f1-72c6-4fca-949e-7ac0bb863fad",
   "metadata": {},
   "outputs": [
    {
     "data": {
      "text/plain": [
       "0.0"
      ]
     },
     "execution_count": 36,
     "metadata": {},
     "output_type": "execute_result"
    }
   ],
   "source": [
    "sam[2]"
   ]
  },
  {
   "cell_type": "code",
   "execution_count": 37,
   "id": "686a9d57-3806-4ec5-ab60-a68325e4a406",
   "metadata": {},
   "outputs": [],
   "source": [
    "train_data =  data.take(round(len(data)*7))\n",
    "train_data = train_data.batch(16)\n",
    "train_data = train_data.prefetch(8)"
   ]
  },
  {
   "cell_type": "code",
   "execution_count": 38,
   "id": "f82c5a64-b9c2-412f-adba-541c3b0e6636",
   "metadata": {},
   "outputs": [
    {
     "data": {
      "text/plain": [
       "<PrefetchDataset element_spec=(TensorSpec(shape=(None, 100, 100, None), dtype=tf.float32, name=None), TensorSpec(shape=(None, 100, 100, None), dtype=tf.float32, name=None), TensorSpec(shape=(None,), dtype=tf.float32, name=None))>"
      ]
     },
     "execution_count": 38,
     "metadata": {},
     "output_type": "execute_result"
    }
   ],
   "source": [
    "train_data"
   ]
  },
  {
   "cell_type": "code",
   "execution_count": 39,
   "id": "67f6e2e9-852e-4d23-9f35-9c877489ca78",
   "metadata": {},
   "outputs": [],
   "source": [
    "test_data = data.skip(round(len(data)*.7))\n",
    "test_data = test_data.take(round(len(data)*.3))\n",
    "test_data = test_data.batch(16)\n",
    "test_data = test_data.prefetch(8)"
   ]
  },
  {
   "cell_type": "code",
   "execution_count": 40,
   "id": "04963b81-b713-4c7a-bc1a-73369dfb1935",
   "metadata": {},
   "outputs": [],
   "source": [
    "def make_embedding():\n",
    "    inp = Input(shape=(100,100,3),name = 'input_image')\n",
    "\n",
    "    c1 = Conv2D(64,(10,10),activation ='relu')(inp)\n",
    "    m1 = MaxPooling2D(64,(2,2),padding = 'same')(c1)\n",
    "\n",
    "    c2 = Conv2D(128,(7,7),activation ='relu')(m1)\n",
    "    m2 = MaxPooling2D(64,(2,2),padding = 'same')(c2)\n",
    "\n",
    "    c3 = Conv2D(128,(4,4),activation ='relu')(m2)\n",
    "    m3 = MaxPooling2D(64,(2,2),padding = 'same')(c3)\n",
    "\n",
    "    c4 = Conv2D(256,(4,4) , activation='relu')(m3)\n",
    "    f1 = Flatten()(c4)\n",
    "    d1 = Dense(4096,activation = 'sigmoid')(f1)\n",
    "\n",
    "\n",
    "    \n",
    "    return Model(inputs = [inp] , outputs= [d1] , name ='embedding')\n",
    "     "
   ]
  },
  {
   "cell_type": "code",
   "execution_count": 41,
   "id": "e51a4428-e044-444f-bc04-374921edf5a1",
   "metadata": {},
   "outputs": [],
   "source": [
    "embedding = make_embedding()"
   ]
  },
  {
   "cell_type": "code",
   "execution_count": 42,
   "id": "dcd7f3dc-ba1b-4e12-b729-12167992b579",
   "metadata": {},
   "outputs": [
    {
     "name": "stdout",
     "output_type": "stream",
     "text": [
      "Model: \"embedding\"\n",
      "_________________________________________________________________\n",
      " Layer (type)                Output Shape              Param #   \n",
      "=================================================================\n",
      " input_image (InputLayer)    [(None, 100, 100, 3)]     0         \n",
      "                                                                 \n",
      " conv2d (Conv2D)             (None, 91, 91, 64)        19264     \n",
      "                                                                 \n",
      " max_pooling2d (MaxPooling2D  (None, 46, 46, 64)       0         \n",
      " )                                                               \n",
      "                                                                 \n",
      " conv2d_1 (Conv2D)           (None, 40, 40, 128)       401536    \n",
      "                                                                 \n",
      " max_pooling2d_1 (MaxPooling  (None, 20, 20, 128)      0         \n",
      " 2D)                                                             \n",
      "                                                                 \n",
      " conv2d_2 (Conv2D)           (None, 17, 17, 128)       262272    \n",
      "                                                                 \n",
      " max_pooling2d_2 (MaxPooling  (None, 9, 9, 128)        0         \n",
      " 2D)                                                             \n",
      "                                                                 \n",
      " conv2d_3 (Conv2D)           (None, 6, 6, 256)         524544    \n",
      "                                                                 \n",
      " flatten (Flatten)           (None, 9216)              0         \n",
      "                                                                 \n",
      " dense (Dense)               (None, 4096)              37752832  \n",
      "                                                                 \n",
      "=================================================================\n",
      "Total params: 38,960,448\n",
      "Trainable params: 38,960,448\n",
      "Non-trainable params: 0\n",
      "_________________________________________________________________\n"
     ]
    }
   ],
   "source": [
    "embedding.summary()"
   ]
  },
  {
   "cell_type": "code",
   "execution_count": 43,
   "id": "46235c23-6b0e-4130-ab3d-71f3bea2d628",
   "metadata": {},
   "outputs": [],
   "source": [
    "class L1Dist(Layer):\n",
    "    def __init__(self,**kwargs):\n",
    "        super().__init__()\n",
    "    def call(self,input_embedding, validation_embedding):\n",
    "        return tf.math.abs(input_embedding - validation_embedding)"
   ]
  },
  {
   "cell_type": "code",
   "execution_count": 44,
   "id": "23f8059e-c330-4425-943a-07360aa893b7",
   "metadata": {},
   "outputs": [],
   "source": [
    "def make_siamese_model():\n",
    "    input_image = Input(name = 'input_img',shape = (100,100,3))\n",
    "    validation_image  = Input(name='validation_img',shape=(100,100,3))\n",
    "    siamese_layer=L1Dist()\n",
    "    siamese_layer._name= 'distance'\n",
    "    distances = siamese_layer(embedding(input_image),embedding(validation_image))\n",
    "    classifier =  Dense(1,activation='sigmoid')(distances)\n",
    "    return Model(inputs=[input_image,validation_image],outputs=classifier,name ='SiameseNetwork')\n",
    "    "
   ]
  },
  {
   "cell_type": "code",
   "execution_count": 45,
   "id": "d4641e4c-13d9-4bad-b78e-a0407c61752a",
   "metadata": {},
   "outputs": [],
   "source": [
    "siamese_model = make_siamese_model()"
   ]
  },
  {
   "cell_type": "code",
   "execution_count": 46,
   "id": "7d0f5885-ad37-4b4f-bb64-385c5b625e35",
   "metadata": {},
   "outputs": [
    {
     "name": "stdout",
     "output_type": "stream",
     "text": [
      "Model: \"SiameseNetwork\"\n",
      "__________________________________________________________________________________________________\n",
      " Layer (type)                   Output Shape         Param #     Connected to                     \n",
      "==================================================================================================\n",
      " input_img (InputLayer)         [(None, 100, 100, 3  0           []                               \n",
      "                                )]                                                                \n",
      "                                                                                                  \n",
      " validation_img (InputLayer)    [(None, 100, 100, 3  0           []                               \n",
      "                                )]                                                                \n",
      "                                                                                                  \n",
      " embedding (Functional)         (None, 4096)         38960448    ['input_img[0][0]',              \n",
      "                                                                  'validation_img[0][0]']         \n",
      "                                                                                                  \n",
      " distance (L1Dist)              (None, 4096)         0           ['embedding[0][0]',              \n",
      "                                                                  'embedding[1][0]']              \n",
      "                                                                                                  \n",
      " dense_1 (Dense)                (None, 1)            4097        ['distance[0][0]']               \n",
      "                                                                                                  \n",
      "==================================================================================================\n",
      "Total params: 38,964,545\n",
      "Trainable params: 38,964,545\n",
      "Non-trainable params: 0\n",
      "__________________________________________________________________________________________________\n"
     ]
    }
   ],
   "source": [
    "siamese_model.summary()"
   ]
  },
  {
   "cell_type": "code",
   "execution_count": 47,
   "id": "055447e8-2d26-4477-b15c-add3ba5bdb8b",
   "metadata": {},
   "outputs": [],
   "source": [
    "binary_cross_loss = tf.losses.BinaryCrossentropy()"
   ]
  },
  {
   "cell_type": "code",
   "execution_count": 48,
   "id": "e2e25d96-8f48-46e4-8411-f9474cb44bae",
   "metadata": {},
   "outputs": [],
   "source": [
    " opt = tf.keras.optimizers.Adam(1e-4)"
   ]
  },
  {
   "cell_type": "code",
   "execution_count": 49,
   "id": "78d85d36-8b4e-4bcc-9d13-8d3642aac31f",
   "metadata": {},
   "outputs": [],
   "source": [
    "checkpoint_dir='./training_checkpoints'\n",
    "checkpoint_prefix=os.path.join(checkpoint_dir,'ckpt')\n",
    "checkpoint = tf.train.Checkpoint(opt=opt,siamese_model=siamese_model)"
   ]
  },
  {
   "cell_type": "code",
   "execution_count": 50,
   "id": "a5e7b888-d6c7-4cb7-ab6c-a86e3eedb42c",
   "metadata": {},
   "outputs": [],
   "source": [
    "@tf.function\n",
    "def train_step(batch):\n",
    "    with tf.GradientTape() as tape:\n",
    "\n",
    "        X=batch[:2]\n",
    "        Y= batch[2]\n",
    "        yhat = siamese_model(X,training = True)\n",
    "        loss = binary_cross_loss(Y,yhat)\n",
    "    grad = tape.gradient(loss,siamese_model.trainable_variables)\n",
    "    opt.apply_gradients(zip(grad,siamese_model.trainable_variables))\n",
    "    return loss\n",
    "    "
   ]
  },
  {
   "cell_type": "code",
   "execution_count": 51,
   "id": "c3ec5e08-72b8-4415-b9c2-ce0106f83a23",
   "metadata": {},
   "outputs": [],
   "source": [
    "def train(data,EPOCHS):\n",
    "    for epoch in range(1,EPOCHS+1):\n",
    "        print('\\n Epoch {}/{}'.format(epoch,EPOCHS))\n",
    "        progbar = tf.keras.utils.Progbar(len(data))\n",
    "        for idx,batch in enumerate(train_data):\n",
    "            train_step(batch)\n",
    "            progbar.update(idx+1)\n",
    "        if epoch % 10 == 0 :\n",
    "            checkpoint.save(file_prefix = checkpoint_prefix)"
   ]
  },
  {
   "cell_type": "code",
   "execution_count": 52,
   "id": "3ff6cf60-ffca-4caf-a22c-6d45f4d971d4",
   "metadata": {},
   "outputs": [],
   "source": [
    "EPOCHS = 50"
   ]
  },
  {
   "cell_type": "code",
   "execution_count": 53,
   "id": "97f32d1f-1959-47f1-bf86-428fa292708c",
   "metadata": {},
   "outputs": [
    {
     "name": "stdout",
     "output_type": "stream",
     "text": [
      "\n",
      " Epoch 1/50\n",
      "2/2 [==============================] - 6s 618ms/step\n",
      "\n",
      " Epoch 2/50\n",
      "2/2 [==============================] - 0s 350ms/step\n",
      "\n",
      " Epoch 3/50\n",
      "2/2 [==============================] - 0s 351ms/step\n",
      "\n",
      " Epoch 4/50\n",
      "2/2 [==============================] - 0s 361ms/step\n",
      "\n",
      " Epoch 5/50\n",
      "2/2 [==============================] - 0s 361ms/step\n",
      "\n",
      " Epoch 6/50\n",
      "2/2 [==============================] - 0s 361ms/step\n",
      "\n",
      " Epoch 7/50\n",
      "2/2 [==============================] - 0s 364ms/step\n",
      "\n",
      " Epoch 8/50\n",
      "2/2 [==============================] - 0s 361ms/step\n",
      "\n",
      " Epoch 9/50\n",
      "2/2 [==============================] - 0s 361ms/step\n",
      "\n",
      " Epoch 10/50\n",
      "2/2 [==============================] - 0s 350ms/step\n",
      "\n",
      " Epoch 11/50\n",
      "2/2 [==============================] - 0s 351ms/step\n",
      "\n",
      " Epoch 12/50\n",
      "2/2 [==============================] - 0s 347ms/step\n",
      "\n",
      " Epoch 13/50\n",
      "2/2 [==============================] - 0s 352ms/step\n",
      "\n",
      " Epoch 14/50\n",
      "2/2 [==============================] - 0s 355ms/step\n",
      "\n",
      " Epoch 15/50\n",
      "2/2 [==============================] - 0s 349ms/step\n",
      "\n",
      " Epoch 16/50\n",
      "2/2 [==============================] - 0s 357ms/step\n",
      "\n",
      " Epoch 17/50\n",
      "2/2 [==============================] - 0s 352ms/step\n",
      "\n",
      " Epoch 18/50\n",
      "2/2 [==============================] - 0s 350ms/step\n",
      "\n",
      " Epoch 19/50\n",
      "2/2 [==============================] - 0s 354ms/step\n",
      "\n",
      " Epoch 20/50\n",
      "2/2 [==============================] - 0s 353ms/step\n",
      "\n",
      " Epoch 21/50\n",
      "2/2 [==============================] - 0s 354ms/step\n",
      "\n",
      " Epoch 22/50\n",
      "2/2 [==============================] - 0s 349ms/step\n",
      "\n",
      " Epoch 23/50\n",
      "2/2 [==============================] - 0s 352ms/step\n",
      "\n",
      " Epoch 24/50\n",
      "2/2 [==============================] - 0s 356ms/step\n",
      "\n",
      " Epoch 25/50\n",
      "2/2 [==============================] - 0s 351ms/step\n",
      "\n",
      " Epoch 26/50\n",
      "2/2 [==============================] - 0s 352ms/step\n",
      "\n",
      " Epoch 27/50\n",
      "2/2 [==============================] - 0s 354ms/step\n",
      "\n",
      " Epoch 28/50\n",
      "2/2 [==============================] - 0s 356ms/step\n",
      "\n",
      " Epoch 29/50\n",
      "2/2 [==============================] - 0s 352ms/step\n",
      "\n",
      " Epoch 30/50\n",
      "2/2 [==============================] - 0s 351ms/step\n",
      "\n",
      " Epoch 31/50\n",
      "2/2 [==============================] - 0s 355ms/step\n",
      "\n",
      " Epoch 32/50\n",
      "2/2 [==============================] - 0s 354ms/step\n",
      "\n",
      " Epoch 33/50\n",
      "2/2 [==============================] - 0s 352ms/step\n",
      "\n",
      " Epoch 34/50\n",
      "2/2 [==============================] - 0s 354ms/step\n",
      "\n",
      " Epoch 35/50\n",
      "2/2 [==============================] - 0s 346ms/step\n",
      "\n",
      " Epoch 36/50\n",
      "2/2 [==============================] - 0s 352ms/step\n",
      "\n",
      " Epoch 37/50\n",
      "2/2 [==============================] - 0s 354ms/step\n",
      "\n",
      " Epoch 38/50\n",
      "2/2 [==============================] - 0s 355ms/step\n",
      "\n",
      " Epoch 39/50\n",
      "2/2 [==============================] - 0s 355ms/step\n",
      "\n",
      " Epoch 40/50\n",
      "2/2 [==============================] - 0s 355ms/step\n",
      "\n",
      " Epoch 41/50\n",
      "2/2 [==============================] - 0s 352ms/step\n",
      "\n",
      " Epoch 42/50\n",
      "2/2 [==============================] - 0s 353ms/step\n",
      "\n",
      " Epoch 43/50\n",
      "2/2 [==============================] - 0s 350ms/step\n",
      "\n",
      " Epoch 44/50\n",
      "2/2 [==============================] - 0s 348ms/step\n",
      "\n",
      " Epoch 45/50\n",
      "2/2 [==============================] - 0s 356ms/step\n",
      "\n",
      " Epoch 46/50\n",
      "2/2 [==============================] - 0s 354ms/step\n",
      "\n",
      " Epoch 47/50\n",
      "2/2 [==============================] - 0s 351ms/step\n",
      "\n",
      " Epoch 48/50\n",
      "2/2 [==============================] - 0s 347ms/step\n",
      "\n",
      " Epoch 49/50\n",
      "2/2 [==============================] - 0s 350ms/step\n",
      "\n",
      " Epoch 50/50\n",
      "2/2 [==============================] - 0s 353ms/step\n"
     ]
    }
   ],
   "source": [
    "train(train_data,EPOCHS)"
   ]
  },
  {
   "cell_type": "code",
   "execution_count": 54,
   "id": "ebcc3ef3-9ff2-4473-ab54-53f65c23dea1",
   "metadata": {},
   "outputs": [],
   "source": [
    "from tensorflow.keras.metrics import Recall , Precision"
   ]
  },
  {
   "cell_type": "code",
   "execution_count": 55,
   "id": "d0aa3d94",
   "metadata": {},
   "outputs": [],
   "source": [
    "test_input , test_val , y_true = test_data.as_numpy_iterator().next()"
   ]
  },
  {
   "cell_type": "code",
   "execution_count": 56,
   "id": "3b418236",
   "metadata": {},
   "outputs": [
    {
     "data": {
      "text/plain": [
       "array([1., 1., 0., 1., 1., 0.], dtype=float32)"
      ]
     },
     "execution_count": 56,
     "metadata": {},
     "output_type": "execute_result"
    }
   ],
   "source": [
    "y_true"
   ]
  },
  {
   "cell_type": "code",
   "execution_count": 57,
   "id": "5612721d",
   "metadata": {},
   "outputs": [
    {
     "name": "stdout",
     "output_type": "stream",
     "text": [
      "1/1 [==============================] - 0s 320ms/step\n"
     ]
    },
    {
     "data": {
      "text/plain": [
       "array([[9.9995315e-01],\n",
       "       [9.9984729e-01],\n",
       "       [9.6992226e-05],\n",
       "       [9.9942905e-01],\n",
       "       [9.9945933e-01],\n",
       "       [3.6505490e-04]], dtype=float32)"
      ]
     },
     "execution_count": 57,
     "metadata": {},
     "output_type": "execute_result"
    }
   ],
   "source": [
    "predictions = siamese_model.predict([test_input,test_val])\n",
    "predictions\n"
   ]
  },
  {
   "cell_type": "code",
   "execution_count": 58,
   "id": "b42c712c",
   "metadata": {},
   "outputs": [
    {
     "data": {
      "text/plain": [
       "[1, 1, 0, 1, 1, 0]"
      ]
     },
     "execution_count": 58,
     "metadata": {},
     "output_type": "execute_result"
    }
   ],
   "source": [
    "[ 1 if prediction > 0.5 else 0 for prediction in predictions]"
   ]
  },
  {
   "cell_type": "code",
   "execution_count": 59,
   "id": "2451ea2b",
   "metadata": {},
   "outputs": [
    {
     "data": {
      "text/plain": [
       "array([1., 1., 0., 1., 1., 0.], dtype=float32)"
      ]
     },
     "execution_count": 59,
     "metadata": {},
     "output_type": "execute_result"
    }
   ],
   "source": [
    "y_true"
   ]
  },
  {
   "cell_type": "code",
   "execution_count": 60,
   "id": "a66edd74",
   "metadata": {},
   "outputs": [
    {
     "data": {
      "text/plain": [
       "1.0"
      ]
     },
     "execution_count": 60,
     "metadata": {},
     "output_type": "execute_result"
    }
   ],
   "source": [
    "m = Recall()\n",
    "\n",
    "m.update_state(y_true,predictions)\n",
    "m.result().numpy()"
   ]
  },
  {
   "cell_type": "code",
   "execution_count": 61,
   "id": "05691929",
   "metadata": {},
   "outputs": [
    {
     "data": {
      "image/png": "[encoded data removed]",
      "text/plain": [
       "<Figure size 1800x800 with 2 Axes>"
      ]
     },
     "metadata": {},
     "output_type": "display_data"
    }
   ],
   "source": [
    "plt.figure(figsize=(18,8))\n",
    "plt.subplot(1,2,1)\n",
    "plt.imshow(test_input[1])\n",
    "plt.subplot(1,2,2)\n",
    "plt.imshow(test_val[1])\n",
    "plt.show()"
   ]
  },
  {
   "cell_type": "code",
   "execution_count": null,
   "id": "b900c1d4",
   "metadata": {},
   "outputs": [
    {
     "ename": "TypeError",
     "evalue": "save() got an unexpected keyword argument 'custom_objects'",
     "output_type": "error",
     "traceback": [
      "\u001b[1;31m---------------------------------------------------------------------------\u001b[0m",
      "\u001b[1;31mTypeError\u001b[0m                                 Traceback (most recent call last)",
      "Cell \u001b[1;32mIn[77], line 1\u001b[0m\n\u001b[1;32m----> 1\u001b[0m \u001b[43msiamese_model\u001b[49m\u001b[38;5;241;43m.\u001b[39;49m\u001b[43msave\u001b[49m\u001b[43m(\u001b[49m\u001b[38;5;124;43m'\u001b[39;49m\u001b[38;5;124;43mmodel.h5\u001b[39;49m\u001b[38;5;124;43m'\u001b[39;49m\u001b[43m,\u001b[49m\u001b[43mcustom_objects\u001b[49m\u001b[43m \u001b[49m\u001b[38;5;241;43m=\u001b[39;49m\u001b[43m \u001b[49m\u001b[43m{\u001b[49m\u001b[38;5;124;43m\"\u001b[39;49m\u001b[38;5;124;43mL1Dist\u001b[39;49m\u001b[38;5;124;43m\"\u001b[39;49m\u001b[43m \u001b[49m\u001b[43m:\u001b[49m\u001b[43m \u001b[49m\u001b[43mL1Dist\u001b[49m\u001b[43m}\u001b[49m\u001b[43m)\u001b[49m\n",
      "File \u001b[1;32mc:\\Users\\ideep\\miniconda3\\envs\\tf\\lib\\site-packages\\keras\\utils\\traceback_utils.py:70\u001b[0m, in \u001b[0;36mfilter_traceback.<locals>.error_handler\u001b[1;34m(*args, **kwargs)\u001b[0m\n\u001b[0;32m     67\u001b[0m     filtered_tb \u001b[38;5;241m=\u001b[39m _process_traceback_frames(e\u001b[38;5;241m.\u001b[39m__traceback__)\n\u001b[0;32m     68\u001b[0m     \u001b[38;5;66;03m# To get the full stack trace, call:\u001b[39;00m\n\u001b[0;32m     69\u001b[0m     \u001b[38;5;66;03m# `tf.debugging.disable_traceback_filtering()`\u001b[39;00m\n\u001b[1;32m---> 70\u001b[0m     \u001b[38;5;28;01mraise\u001b[39;00m e\u001b[38;5;241m.\u001b[39mwith_traceback(filtered_tb) \u001b[38;5;28;01mfrom\u001b[39;00m \u001b[38;5;28;01mNone\u001b[39;00m\n\u001b[0;32m     71\u001b[0m \u001b[38;5;28;01mfinally\u001b[39;00m:\n\u001b[0;32m     72\u001b[0m     \u001b[38;5;28;01mdel\u001b[39;00m filtered_tb\n",
      "File \u001b[1;32mc:\\Users\\ideep\\miniconda3\\envs\\tf\\lib\\site-packages\\keras\\utils\\traceback_utils.py:65\u001b[0m, in \u001b[0;36mfilter_traceback.<locals>.error_handler\u001b[1;34m(*args, **kwargs)\u001b[0m\n\u001b[0;32m     63\u001b[0m filtered_tb \u001b[38;5;241m=\u001b[39m \u001b[38;5;28;01mNone\u001b[39;00m\n\u001b[0;32m     64\u001b[0m \u001b[38;5;28;01mtry\u001b[39;00m:\n\u001b[1;32m---> 65\u001b[0m     \u001b[38;5;28;01mreturn\u001b[39;00m fn(\u001b[38;5;241m*\u001b[39margs, \u001b[38;5;241m*\u001b[39m\u001b[38;5;241m*\u001b[39mkwargs)\n\u001b[0;32m     66\u001b[0m \u001b[38;5;28;01mexcept\u001b[39;00m \u001b[38;5;167;01mException\u001b[39;00m \u001b[38;5;28;01mas\u001b[39;00m e:\n\u001b[0;32m     67\u001b[0m     filtered_tb \u001b[38;5;241m=\u001b[39m _process_traceback_frames(e\u001b[38;5;241m.\u001b[39m__traceback__)\n",
      "\u001b[1;31mTypeError\u001b[0m: save() got an unexpected keyword argument 'custom_objects'"
     ]
    }
   ],
   "source": [
    "siamese_model.save('model.h5',save_format='h5')"
   ]
  },
  {
   "cell_type": "code",
   "execution_count": 71,
   "id": "d56177ef",
   "metadata": {},
   "outputs": [
    {
     "name": "stdout",
     "output_type": "stream",
     "text": [
      "WARNING:tensorflow:No training configuration found in the save file, so the model was *not* compiled. Compile it manually.\n"
     ]
    }
   ],
   "source": [
    "model = tf.keras.models.load_model('model.h5', custom_objects={'L1Dist':L1Dist})"
   ]
  },
  {
   "cell_type": "code",
   "execution_count": 72,
   "id": "6c335078",
   "metadata": {},
   "outputs": [
    {
     "name": "stdout",
     "output_type": "stream",
     "text": [
      "1/1 [==============================] - 0s 65ms/step\n"
     ]
    },
    {
     "data": {
      "text/plain": [
       "array([[9.9995315e-01],\n",
       "       [9.9984717e-01],\n",
       "       [9.6915028e-05],\n",
       "       [9.9942786e-01],\n",
       "       [9.9946016e-01],\n",
       "       [3.6433831e-04]], dtype=float32)"
      ]
     },
     "execution_count": 72,
     "metadata": {},
     "output_type": "execute_result"
    }
   ],
   "source": [
    "model.predict([test_input,test_val])"
   ]
  },
  {
   "cell_type": "code",
   "execution_count": 73,
   "id": "8f6c145e",
   "metadata": {},
   "outputs": [
    {
     "name": "stdout",
     "output_type": "stream",
     "text": [
      "Model: \"SiameseNetwork\"\n",
      "__________________________________________________________________________________________________\n",
      " Layer (type)                   Output Shape         Param #     Connected to                     \n",
      "==================================================================================================\n",
      " input_img (InputLayer)         [(None, 100, 100, 3  0           []                               \n",
      "                                )]                                                                \n",
      "                                                                                                  \n",
      " validation_img (InputLayer)    [(None, 100, 100, 3  0           []                               \n",
      "                                )]                                                                \n",
      "                                                                                                  \n",
      " embedding (Functional)         (None, 4096)         38960448    ['input_img[0][0]',              \n",
      "                                                                  'validation_img[0][0]']         \n",
      "                                                                                                  \n",
      " l1_dist_2 (L1Dist)             (None, 4096)         0           ['embedding[0][0]',              \n",
      "                                                                  'embedding[1][0]']              \n",
      "                                                                                                  \n",
      " dense_1 (Dense)                (None, 1)            4097        ['l1_dist_2[0][0]']              \n",
      "                                                                                                  \n",
      "==================================================================================================\n",
      "Total params: 38,964,545\n",
      "Trainable params: 38,964,545\n",
      "Non-trainable params: 0\n",
      "__________________________________________________________________________________________________\n"
     ]
    }
   ],
   "source": [
    "model.summary()"
   ]
  },
  {
   "cell_type": "code",
   "execution_count": 74,
   "id": "48df312e",
   "metadata": {},
   "outputs": [],
   "source": [
    "def verify( model , detection_threshold, verification_threshold):\n",
    "    results = []\n",
    "    for image in os.listdir(os.path.join('application_data','verification_image')):\n",
    "        input_img = preprocess(os.path.join('application_data','input_image','input_image.jpg'))\n",
    "        validation_img = preprocess(os.path.join('application_data','verification_image',image))\n",
    "        \n",
    "        result = model.predict(list(np.expand_dims([input_img,validation_img],axis = 1)))\n",
    "        results.append(result)\n",
    "    detection = np.sum(np.array(results) > detection_threshold)\n",
    "    verification = detection /len(os.listdir(os.path.join('application_data','verification_image')))\n",
    "    verified = verification > verification_threshold\n",
    "    \n",
    "    return results,verified"
   ]
  },
  {
   "cell_type": "code",
   "execution_count": 75,
   "id": "970ef2cc",
   "metadata": {},
   "outputs": [
    {
     "name": "stdout",
     "output_type": "stream",
     "text": [
      "1/1 [==============================] - 0s 15ms/step\n",
      "1/1 [==============================] - 0s 14ms/step\n",
      "1/1 [==============================] - 0s 14ms/step\n",
      "1/1 [==============================] - 0s 14ms/step\n",
      "1/1 [==============================] - 0s 15ms/step\n",
      "1/1 [==============================] - 0s 14ms/step\n",
      "1/1 [==============================] - 0s 14ms/step\n",
      "1/1 [==============================] - 0s 14ms/step\n",
      "1/1 [==============================] - 0s 14ms/step\n",
      "1/1 [==============================] - 0s 14ms/step\n",
      "1/1 [==============================] - 0s 15ms/step\n",
      "1/1 [==============================] - 0s 13ms/step\n",
      "1/1 [==============================] - 0s 15ms/step\n",
      "1/1 [==============================] - 0s 14ms/step\n",
      "1/1 [==============================] - 0s 14ms/step\n",
      "True\n"
     ]
    }
   ],
   "source": [
    "import cv2\n",
    "\n",
    "cap = cv2.VideoCapture(2)  # Verify this index\n",
    "while cap.isOpened():\n",
    "    ret, frame = cap.read()\n",
    "    if not ret:\n",
    "        print(\"Failed to grab frame\")\n",
    "        break\n",
    "    \n",
    "    # Crop the frame\n",
    "    frame = frame[120:120+250, 200:200+250, :]\n",
    "    \n",
    "    # Display the cropped frame\n",
    "    cv2.imshow('Verification', frame)\n",
    "    \n",
    "    # Verification trigger\n",
    "    if cv2.waitKey(10) & 0xFF == ord('v'):\n",
    "        # Run verification\n",
    "        results, verified = verify(model, 0.5, 0.5)\n",
    "        print(verified)\n",
    "    \n",
    "    # Exit condition\n",
    "    if cv2.waitKey(10) & 0xFF == ord('q'):\n",
    "        break\n",
    "cap.release()\n",
    "cv2.destroyAllWindows()\n"
   ]
  },
  {
   "cell_type": "code",
   "execution_count": 76,
   "id": "4314daea",
   "metadata": {},
   "outputs": [
    {
     "data": {
      "text/plain": [
       "array([0.4996072 , 0.5805096 , 0.56696385, 0.56696385, 0.8093137 ,\n",
       "       0.4917175 , 0.99942786, 0.99938357, 0.9999372 , 0.994009  ,\n",
       "       0.9992987 , 0.89085424, 0.9997167 , 0.4282769 , 0.00535754],\n",
       "      dtype=float32)"
      ]
     },
     "execution_count": 76,
     "metadata": {},
     "output_type": "execute_result"
    }
   ],
   "source": [
    "np.squeeze(results)"
   ]
  },
  {
   "cell_type": "code",
   "execution_count": null,
   "id": "deb32ae2",
   "metadata": {},
   "outputs": [],
   "source": []
  }
 ],
 "metadata": {
  "kernelspec": {
   "display_name": "tf",
   "language": "python",
   "name": "python3"
  },
  "language_info": {
   "codemirror_mode": {
    "name": "ipython",
    "version": 3
   },
   "file_extension": ".py",
   "mimetype": "text/x-python",
   "name": "python",
   "nbconvert_exporter": "python",
   "pygments_lexer": "ipython3",
   "version": "3.9.19"
  }
 },
 "nbformat": 4,
 "nbformat_minor": 5
}
